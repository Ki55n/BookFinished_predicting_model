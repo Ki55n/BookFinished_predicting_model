{
  "nbformat": 4,
  "nbformat_minor": 0,
  "metadata": {
    "colab": {
      "provenance": []
    },
    "kernelspec": {
      "name": "python3",
      "display_name": "Python 3"
    },
    "language_info": {
      "name": "python"
    }
  },
  "cells": [
    {
      "cell_type": "code",
      "execution_count": 67,
      "metadata": {
        "colab": {
          "base_uri": "https://localhost:8080/",
          "height": 367
        },
        "id": "YPtRz86HPtja",
        "outputId": "cc460b25-911b-44d8-efd7-cdd8136d746b"
      },
      "outputs": [
        {
          "output_type": "display_data",
          "data": {
            "text/plain": [
              "<Figure size 432x288 with 1 Axes>"
            ],
            "image/png": "[encoded data removed]"
          },
          "metadata": {
            "needs_background": "light"
          }
        },
        {
          "output_type": "stream",
          "name": "stdout",
          "text": [
            "You will be able to finish the book!\n"
          ]
        },
        {
          "output_type": "stream",
          "name": "stderr",
          "text": [
            "/usr/local/lib/python3.8/dist-packages/sklearn/base.py:450: UserWarning: X does not have valid feature names, but LogisticRegression was fitted with feature names\n",
            "  warnings.warn(\n"
          ]
        }
      ],
      "source": [
        "import pandas as pd\n",
        "from sklearn.model_selection import train_test_split\n",
        "from sklearn.linear_model import LogisticRegression\n",
        "from sklearn.metrics import confusion_matrix, accuracy_score\n",
        "import matplotlib.pyplot as plt\n",
        "import numpy as np\n",
        "import seaborn as sns\n",
        "\n",
        "# Load the dataset\n",
        "df = pd.read_excel('ml-assessment-data.xlsx')\n",
        "\n",
        "# Clean the data\n",
        "df.dropna(inplace=True)\n",
        "df['finish'] = df['finish'].map({'yes': 1, 'no': 0})\n",
        "\n",
        "# Engineer features\n",
        "df['percentage_complete'] = df['page_count'] / df['page_count'].max()\n",
        "df['pages_remaining'] = df['page_count'].max() - df['page_count']\n",
        "\n",
        "X = df[['page_count', 'percentage_complete', 'pages_remaining']]\n",
        "y = df['finish']\n",
        "\n",
        "# Split the data into training and testing sets\n",
        "X_train, X_test, y_train, y_test = train_test_split(X, y, test_size=0.2, random_state=42)\n",
        "\n",
        "# Create an instance of the LogisticRegression estimator\n",
        "model = LogisticRegression()\n",
        "\n",
        "# Fit the model on the training data\n",
        "model.fit(X_train, y_train)\n",
        "\n",
        "# Make predictions on the testing data\n",
        "probs = model.predict_proba(X_test)\n",
        "\n",
        "# Get the probabilities for the \"yes\" class\n",
        "yes_probs = probs[:, 1]\n",
        "\n",
        "# Plot page count vs. probability of the book being read\n",
        "plt.scatter(X_test['page_count'], yes_probs)\n",
        "plt.xlabel('Page count')\n",
        "plt.ylabel('Probability of book being read')\n",
        "plt.title('Page count vs. probability of book being read')\n",
        "plt.show()\n",
        "\n",
        "i=1200\n",
        "page_count=i\n",
        "percentage_complete = page_count / df['page_count'].max()\n",
        "pages_remaining = df['page_count'].max() - page_count\n",
        "X_new = [[page_count, percentage_complete, pages_remaining]]\n",
        "\n",
        "\n",
        "prediction = model.predict(X_new)\n",
        "if prediction[0]:\n",
        "    print('You will be able to finish the book!')\n",
        "else:\n",
        "  print('You will not be able to finish the book')\n"
      ]
    }
  ]
}